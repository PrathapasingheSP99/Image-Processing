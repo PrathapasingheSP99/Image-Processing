{
 "cells": [
  {
   "cell_type": "markdown",
   "metadata": {},
   "source": [
    "$\n",
    "Assignment 3\n",
    "$\n",
    "<br>\n",
    "$\n",
    "\\Huge Name-S.P.Prathapasinghe\n",
    "$\n",
    "<br>\n",
    "$\n",
    "Index No.-190470X\n",
    "$\n",
    "<br>\n",
    "$\n",
    "Github Link-https://github.com/PrathapasingheSP99/Image-Processing.git\n",
    "$"
   ]
  },
  {
   "cell_type": "markdown",
   "metadata": {},
   "source": [
    "## 1.Open the hexnut_template.png, squarenut_template.png and conveyor_f100.png and display.\n"
   ]
  },
  {
   "cell_type": "code",
   "execution_count": 1,
   "metadata": {},
   "outputs": [
    {
     "data": {
      "image/png": "[encoded data removed]",
      "text/plain": [
       "<Figure size 432x288 with 3 Axes>"
      ]
     },
     "metadata": {
      "needs_background": "light"
     },
     "output_type": "display_data"
    }
   ],
   "source": [
    "import cv2 as cv\n",
    "import numpy as np\n",
    "import matplotlib.pyplot as plt\n",
    "\n",
    "\n",
    "hexnut_template = cv.imread('hexnut_template.png', cv.IMREAD_COLOR)\n",
    "squarenut_template =  cv.imread('squarenut_template.png', cv.IMREAD_COLOR)\n",
    "conveyor_f100 =  cv.imread('conveyor_f100.png', cv.IMREAD_COLOR)\n",
    "\n",
    "fig, ax = plt. subplots(1,3)\n",
    "ax[0].imshow(cv.cvtColor(hexnut_template, cv.COLOR_RGB2BGR));ax[0].axis('off')\n",
    "ax[1].imshow(cv.cvtColor(squarenut_template, cv.COLOR_RGB2BGR));ax[1].axis('off')\n",
    "ax[2].imshow(cv.cvtColor(conveyor_f100, cv.COLOR_RGB2BGR));ax[2].axis('off')\n",
    "\n",
    "plt.show()"
   ]
  },
  {
   "cell_type": "markdown",
   "metadata": {},
   "source": [
    "## 2.Convert the images to grayscale and apply Otsu's thresholding to obtain the binarized image."
   ]
  },
  {
   "cell_type": "code",
   "execution_count": 2,
   "metadata": {},
   "outputs": [
    {
     "name": "stdout",
     "output_type": "stream",
     "text": [
      "The threshold value automatically selected for hexanut is 20.\n",
      "The threshold value automatically selected for squarenut is 20.\n",
      "The threshold value automatically selected for conveyor_f100 is 20.\n"
     ]
    },
    {
     "data": {
      "image/png": "[encoded data removed]",
      "text/plain": [
       "<Figure size 432x288 with 3 Axes>"
      ]
     },
     "metadata": {
      "needs_background": "light"
     },
     "output_type": "display_data"
    }
   ],
   "source": [
    "Gray_hexanut=cv.cvtColor(hexnut_template,cv.COLOR_RGB2GRAY)\n",
    "Gray_squarenut=cv.cvtColor(squarenut_template,cv.COLOR_RGB2GRAY)\n",
    "Gray_conveyor=cv.cvtColor(conveyor_f100,cv.COLOR_RGB2GRAY)\n",
    "\n",
    "Otsu_hexanut,th_hexa = cv.threshold(Gray_hexanut,0,255,cv.THRESH_BINARY+cv.THRESH_OTSU)\n",
    "Otsu_squarenut,th_sqre = cv.threshold(Gray_squarenut,0,255,cv.THRESH_BINARY+cv.THRESH_OTSU)\n",
    "Otsu_convayor,th_conv = cv.threshold(Gray_conveyor,0,255,cv.THRESH_BINARY+cv.THRESH_OTSU)\n",
    "\n",
    "\n",
    "print(\"The threshold value automatically selected for hexanut is %d.\"%Otsu_hexanut)\n",
    "print(\"The threshold value automatically selected for squarenut is %d.\"%Otsu_squarenut)\n",
    "print(\"The threshold value automatically selected for conveyor_f100 is %d.\"%Otsu_convayor)\n",
    "fig, ax = plt. subplots(1,3)\n",
    "ax[0].imshow(th_hexa,'gray')\n",
    "ax[1].imshow(th_sqre,'gray')\n",
    "ax[2].imshow(th_conv,'gray')\n",
    "plt.show()"
   ]
  },
  {
   "cell_type": "markdown",
   "metadata": {},
   "source": [
    "## 3.Carry out morphological closing to remove small holes inside the foreground. Use a 3×3 kernel."
   ]
  },
  {
   "cell_type": "code",
   "execution_count": 3,
   "metadata": {},
   "outputs": [
    {
     "data": {
      "image/png": "[encoded data removed]",
      "text/plain": [
       "<Figure size 432x288 with 3 Axes>"
      ]
     },
     "metadata": {
      "needs_background": "light"
     },
     "output_type": "display_data"
    }
   ],
   "source": [
    "kernel = cv.getStructuringElement(cv.MORPH_RECT, (3,3))\n",
    "closing_hexa = cv.morphologyEx(th_hexa, cv.MORPH_CLOSE, kernel)\n",
    "closing_sqre = cv.morphologyEx(th_sqre, cv.MORPH_CLOSE, kernel)\n",
    "closing_conv = cv.morphologyEx(th_conv, cv.MORPH_CLOSE, kernel)\n",
    "fig, ax = plt. subplots(1,3)\n",
    "ax[0].imshow(closing_hexa,'gray')\n",
    "ax[1].imshow(closing_sqre,'gray')\n",
    "ax[2].imshow(closing_conv,'gray')\n",
    "plt.show()"
   ]
  },
  {
   "cell_type": "markdown",
   "metadata": {},
   "source": [
    "## 4.Connected components analysis."
   ]
  },
  {
   "cell_type": "code",
   "execution_count": 4,
   "metadata": {},
   "outputs": [
    {
     "name": "stdout",
     "output_type": "stream",
     "text": [
      "Connected components analysis of hexnut template image.\n",
      "Number of connected components :- 3\n",
      "\tObject 0\n",
      "\t\tStarting (x,y) coordinates of the object is (10,16).\n",
      "\t\tThe width of object is 101\n",
      "\t\tThe height of object is 88\n",
      "\t\tThe area of the object is 4724\n",
      "\t\tThe centroid (x,y) is at (59.833616,59.222904)\n",
      "\tObject 1\n",
      "\t\tStarting (x,y) coordinates of the object is (0,0).\n",
      "\t\tThe width of object is 120\n",
      "\t\tThe height of object is 120\n",
      "\t\tThe area of the object is 7715\n",
      "\t\tThe centroid (x,y) is at (59.168633,59.542579)\n",
      "\tObject 2\n",
      "\t\tStarting (x,y) coordinates of the object is (35,35).\n",
      "\t\tThe width of object is 51\n",
      "\t\tThe height of object is 51\n",
      "\t\tThe area of the object is 1961\n",
      "\t\tThe centroid (x,y) is at (60.000000,60.000000)\n",
      "Connected components analysis of hexnut template image.\n",
      "Number of connected components :- 3\n",
      "\tObject 0\n",
      "\t\tStarting (x,y) coordinates of the object is (24,24).\n",
      "\t\tThe width of object is 72\n",
      "\t\tThe height of object is 72\n",
      "\t\tThe area of the object is 3223\n",
      "\t\tThe centroid (x,y) is at (59.195780,59.195780)\n",
      "\tObject 1\n",
      "\t\tStarting (x,y) coordinates of the object is (0,0).\n",
      "\t\tThe width of object is 120\n",
      "\t\tThe height of object is 120\n",
      "\t\tThe area of the object is 9216\n",
      "\t\tThe centroid (x,y) is at (59.500000,59.500000)\n",
      "\tObject 2\n",
      "\t\tStarting (x,y) coordinates of the object is (35,35).\n",
      "\t\tThe width of object is 51\n",
      "\t\tThe height of object is 51\n",
      "\t\tThe area of the object is 1961\n",
      "\t\tThe centroid (x,y) is at (60.000000,60.000000)\n",
      "Connected components analysis of hexnut template image.\n",
      "Number of connected components :- 6\n",
      "\tObject 0\n",
      "\t\tStarting (x,y) coordinates of the object is (650,150).\n",
      "\t\tThe width of object is 896\n",
      "\t\tThe height of object is 501\n",
      "\t\tThe area of the object is 13938\n",
      "\t\tThe centroid (x,y) is at (1274.920505,400.110633)\n",
      "\tObject 1\n",
      "\t\tStarting (x,y) coordinates of the object is (0,0).\n",
      "\t\tThe width of object is 1920\n",
      "\t\tThe height of object is 1080\n",
      "\t\tThe area of the object is 2051818\n",
      "\t\tThe centroid (x,y) is at (956.246781,540.884600)\n",
      "\tObject 2\n",
      "\t\tStarting (x,y) coordinates of the object is (1475,175).\n",
      "\t\tThe width of object is 51\n",
      "\t\tThe height of object is 51\n",
      "\t\tThe area of the object is 1961\n",
      "\t\tThe centroid (x,y) is at (1500.000000,200.000000)\n",
      "\tObject 3\n",
      "\t\tStarting (x,y) coordinates of the object is (1275,375).\n",
      "\t\tThe width of object is 51\n",
      "\t\tThe height of object is 51\n",
      "\t\tThe area of the object is 1961\n",
      "\t\tThe centroid (x,y) is at (1300.000000,400.000000)\n",
      "\tObject 4\n",
      "\t\tStarting (x,y) coordinates of the object is (1475,475).\n",
      "\t\tThe width of object is 51\n",
      "\t\tThe height of object is 51\n",
      "\t\tThe area of the object is 1961\n",
      "\t\tThe centroid (x,y) is at (1500.000000,500.000000)\n",
      "\tObject 5\n",
      "\t\tStarting (x,y) coordinates of the object is (675,575).\n",
      "\t\tThe width of object is 51\n",
      "\t\tThe height of object is 51\n",
      "\t\tThe area of the object is 1961\n",
      "\t\tThe centroid (x,y) is at (700.000000,600.000000)\n"
     ]
    }
   ],
   "source": [
    "Images=['hexnut template','squarenut template','convayor belt']\n",
    "def connected_comp_stats(im_array):\n",
    "    connectivity=4\n",
    "    Output=cv.connectedComponentsWithStats(im_array,connectivity,cv.CV_32S)\n",
    "    num_labels,labels,stats,centroids=Output\n",
    "    print(\"Connected components analysis of\",Images[0],\"image.\\nNumber of connected components :-\",num_labels)\n",
    "    for i in range(num_labels):\n",
    "        x = stats[i, cv.CC_STAT_LEFT]\n",
    "        y = stats[i, cv.CC_STAT_TOP]\n",
    "        w = stats[i, cv.CC_STAT_WIDTH]\n",
    "        h = stats[i, cv.CC_STAT_HEIGHT]\n",
    "        area = stats[i, cv.CC_STAT_AREA]\n",
    "        (cX, cY) = centroids[i]\n",
    "        print(\"\\tObject %d\"%i)\n",
    "        print(\"\\t\\tStarting (x,y) coordinates of the object is (%d,%d).\"%(x,y))\n",
    "        print(\"\\t\\tThe width of object is %d\"%w)\n",
    "        print(\"\\t\\tThe height of object is %d\"%h)\n",
    "        print(\"\\t\\tThe area of the object is %d\"%area)\n",
    "        print(\"\\t\\tThe centroid (x,y) is at (%f,%f)\"%(cX,cY))\n",
    "connected_comp_stats(th_hexa)\n",
    "connected_comp_stats(th_sqre)\n",
    "connected_comp_stats(th_conv)\n"
   ]
  },
  {
   "cell_type": "markdown",
   "metadata": {},
   "source": [
    "## 5.Contour analysis: Use findContours function to retrieve the extreme outer contours."
   ]
  },
  {
   "cell_type": "code",
   "execution_count": 5,
   "metadata": {},
   "outputs": [
    {
     "data": {
      "image/png": "[encoded data removed]",
      "text/plain": [
       "<Figure size 2880x1080 with 3 Axes>"
      ]
     },
     "metadata": {
      "needs_background": "light"
     },
     "output_type": "display_data"
    }
   ],
   "source": [
    "fig, ax = plt. subplots(1,3,figsize=(40,15))\n",
    "def Contour_Finding(im_array,ind):\n",
    "    contours1= cv.findContours(255-im_array, cv.RETR_EXTERNAL, cv.CHAIN_APPROX_SIMPLE)[0]\n",
    "    background=np.zeros((im_array.shape[0],im_array.shape[1],3)).astype('uint8')\n",
    "\n",
    "    cv.drawContours(background, contours1, -1, (0,255,0),3, cv.LINE_AA)\n",
    "    ax[ind].imshow(background)\n",
    "    plt.imshow(background)\n",
    "Contour_Finding(th_hexa,0)\n",
    "Contour_Finding(th_sqre,1)\n",
    "Contour_Finding(th_conv,2)"
   ]
  },
  {
   "cell_type": "markdown",
   "metadata": {},
   "source": [
    "## __Detecting Objects on a Synthetic Conveyor__"
   ]
  },
  {
   "cell_type": "markdown",
   "metadata": {},
   "source": [
    "## 1.Open the sequence and play it"
   ]
  },
  {
   "cell_type": "code",
   "execution_count": 6,
   "metadata": {},
   "outputs": [
    {
     "name": "stdout",
     "output_type": "stream",
     "text": [
      "Can't receive frame (stream end?). Exiting.\n"
     ]
    }
   ],
   "source": [
    "cv.namedWindow('Conveyor', cv.WINDOW_NORMAL)\n",
    "cap = cv.VideoCapture('conveyor.mp4')\n",
    "f = 0\n",
    "frame = []      \n",
    "while cap.isOpened():                                    \n",
    "    ret, frame = cap.read()\n",
    "    if not ret:\n",
    "        print(\"Can't receive frame (stream end?). Exiting.\")\n",
    "        break\n",
    "\n",
    "    f += 1\n",
    "    text = 'Frame:' + str(f)\n",
    "    cv.putText(frame,text , (100, 100), cv.FONT_HERSHEY_COMPLEX, 1, (0,250,0), 1, cv.LINE_AA)\n",
    "    cv.imshow('Conveyor', frame)\n",
    "\n",
    "    if cv.waitKey(1) == ord('q'):  \n",
    "        break\n",
    "\n",
    "cap.release()\n",
    "cv.destroyAllWindows()"
   ]
  },
  {
   "cell_type": "markdown",
   "metadata": {},
   "source": [
    "## 2.Count the number of matching hexagonal nuts in conveyor_f100.png. "
   ]
  },
  {
   "cell_type": "code",
   "execution_count": 7,
   "metadata": {},
   "outputs": [
    {
     "name": "stdout",
     "output_type": "stream",
     "text": [
      "Number of matching hexagonal nuts in conveyor_f100.png is 1.\n"
     ]
    },
    {
     "data": {
      "image/png": "[encoded data removed]",
      "text/plain": [
       "<Figure size 432x288 with 1 Axes>"
      ]
     },
     "metadata": {
      "needs_background": "light"
     },
     "output_type": "display_data"
    }
   ],
   "source": [
    "contour_hex= cv.findContours(255-th_hexa, cv.RETR_EXTERNAL,1)[0]\n",
    "cnt_hex=contour_hex[0]\n",
    "contours_in_conv= cv.findContours(255-th_conv, cv.RETR_EXTERNAL,1)[0]\n",
    "\n",
    "count_hex=0\n",
    "Matches=[]\n",
    "\n",
    "for i in range(len(contours_in_conv)):\n",
    "    cnt=contours_in_conv[i]\n",
    "    ret = cv.matchShapes(cnt_hex,cnt,1,0.0)\n",
    "    if ret<0.002:\n",
    "        count_hex+=1\n",
    "        Matches.append(cnt)\n",
    "print( \"Number of matching hexagonal nuts in conveyor_f100.png is %d.\"%count_hex)\n",
    "\n",
    "im=conveyor_f100\n",
    "cv.drawContours(im, Matches, -1, (0,0,255),3, cv.LINE_AA)\n",
    "fig, ax = plt. subplots(1,1)\n",
    "ax.imshow(im)\n",
    "plt.show()\n"
   ]
  },
  {
   "cell_type": "markdown",
   "metadata": {},
   "source": [
    "## 3.Count the number of objects that were conveyed along the conveyor belt."
   ]
  },
  {
   "cell_type": "code",
   "execution_count": 13,
   "metadata": {},
   "outputs": [
    {
     "data": {
      "image/png": "[encoded data removed]",
      "text/plain": [
       "<Figure size 1296x648 with 2 Axes>"
      ]
     },
     "metadata": {
      "needs_background": "light"
     },
     "output_type": "display_data"
    }
   ],
   "source": [
    "def countObjects(in_frame_array, out_frame_array):\n",
    "    prev_hex=0\n",
    "    prev_sqre=0\n",
    "    tot_hex=0\n",
    "    tot_sqre=0\n",
    "    contour_hex= cv.findContours(255-th_hexa, cv.RETR_EXTERNAL,1)[0]\n",
    "    cnt_hex=contour_hex[0]\n",
    "    contour_sqre= cv.findContours(255-th_sqre, cv.RETR_EXTERNAL,1)[0]\n",
    "    cnt_sqre=contour_sqre[0]\n",
    "\n",
    "\n",
    "    for i in range(len(in_frame_array)):\n",
    "        current_hex=0\n",
    "        current_sqre=0\n",
    "        current_frame=in_frame_array[i].copy()\n",
    "        Gray_conveyor=cv.cvtColor(in_frame_array[i],cv.COLOR_RGB2GRAY)\n",
    "        th_conv = cv.threshold(Gray_conveyor,0,255,cv.THRESH_BINARY+cv.THRESH_OTSU)[1]\n",
    "        contours_in_conv= cv.findContours(255-th_conv, cv.RETR_EXTERNAL,1)[0]\n",
    "        for j in range(len(contours_in_conv)):\n",
    "            cnt=contours_in_conv[j]\n",
    "            ret_hex = cv.matchShapes(cnt_hex,cnt,1,0.0)\n",
    "            ret_sqre= cv.matchShapes(cnt_sqre,cnt,1,0.0)\n",
    "            if ret_hex<0.002:\n",
    "                current_hex+=1\n",
    "                cv.drawContours(current_frame, cnt, -1, (0,0,255),3, cv.LINE_AA)\n",
    "            if ret_sqre<0.002:\n",
    "                current_sqre+=1\n",
    "                cv.drawContours(current_frame, cnt, -1, (255,0,0),3, cv.LINE_AA)\n",
    "        if max (current_hex, prev_hex)==current_hex:\n",
    "            tot_hex+=current_hex\n",
    "        if max(current_sqre, prev_sqre)==current_sqre:\n",
    "            tot_sqre +=current_sqre\n",
    "        cv.putText( current_frame, f\"Hexnuts in the frame: {current_hex}\", (1300, 850), cv.FONT_HERSHEY_COMPLEX, 1, (0,0,0), 1, cv.LINE_AA )\n",
    "        cv.putText(current_frame, f\"Squarenuts in the frame: {current_sqre}\", (1300, 900), cv.FONT_HERSHEY_COMPLEX, 1, (0,0,0), 1, cv.LINE_AA )\n",
    "        cv.putText( current_frame, f\"Total Hexnuts: {tot_hex}\", (1300, 950), cv.FONT_HERSHEY_COMPLEX, 1, (0,0,0), 1, cv.LINE_AA )\n",
    "        cv.putText( current_frame, f\"Total squarenuts: {tot_sqre}\", (1300, 1000), cv.FONT_HERSHEY_COMPLEX, 1, (0,0,0), 1, cv.LINE_AA )\n",
    "        prev_hex = current_hex\n",
    "        prev_sqre = current_sqre\n",
    "        out_frame_array.append(current_frame[:, :, :])\n",
    "\n",
    "conveyor_f100 =  cv.imread('conveyor_f100.png', cv.IMREAD_COLOR)        \n",
    "conveyor_f101 =  cv.imread('conveyor_f101.png', cv.IMREAD_COLOR)  \n",
    "in_frame_array = [conveyor_f100, conveyor_f101]\n",
    "out_frame_array = []\n",
    "\n",
    "\n",
    "countObjects(in_frame_array, out_frame_array)\n",
    "\n",
    "fig, ax = plt.subplots(1, 2, figsize = (18, 9))\n",
    "ax[0].imshow(out_frame_array[0])\n",
    "ax[1].imshow(out_frame_array[1])\n",
    "\n",
    "# Writing the video\n",
    "\n",
    "frame_array = []\n",
    "shape = (1080, 1920, 3)\n",
    "countObjects(in_frame_array, frame_array)\n",
    "\n",
    "# # Your code here\n",
    "\n",
    "\n",
    "out = cv.VideoWriter('images/conveyor_results.mp4',cv.VideoWriter_fourcc(*'h264'), 30, (shape[1], shape[0]))\n",
    " \n",
    "for i in range(len(frame_array)):\n",
    "    cv.imshow('Frame', frame_array[i])\n",
    "    if cv.waitKey(1) == ord('q'):\n",
    "        break\n",
    "    out.write(frame_array[i])\n",
    "\n",
    "out.release()\n",
    "cv.destroyAllWindows()"
   ]
  },
  {
   "cell_type": "code",
   "execution_count": 14,
   "metadata": {},
   "outputs": [
    {
     "name": "stdout",
     "output_type": "stream",
     "text": [
      "Can't receive frame (stream end?). Exiting.\n",
      "380\n",
      "finished\n"
     ]
    }
   ],
   "source": [
    "cv.namedWindow('Conveyor', cv.WINDOW_NORMAL)\n",
    "cap = cv.VideoCapture('conveyor.mp4')\n",
    "f = 0\n",
    "frame = []    \n",
    "A=[]  \n",
    "while cap.isOpened():                                    \n",
    "    ret, frame = cap.read()\n",
    "    if not ret:\n",
    "        print(\"Can't receive frame (stream end?). Exiting.\")\n",
    "        break\n",
    "\n",
    "    f += 1\n",
    "    text = 'Frame:' + str(f)\n",
    "    cv.putText(frame,text , (100, 100), cv.FONT_HERSHEY_COMPLEX, 1, (0,250,0), 1, cv.LINE_AA)\n",
    "\n",
    "    cv.imshow('Conveyor', frame)\n",
    "    A.append(frame)\n",
    "    if cv.waitKey(1) == ord('q'):  \n",
    "        break\n",
    "\n",
    "cap.release()\n",
    "cv.destroyAllWindows()\n",
    "print(len(A))\n",
    "frame_array=[]\n",
    "countObjects(A, frame_array)\n",
    "print('finished')"
   ]
  },
  {
   "cell_type": "code",
   "execution_count": 12,
   "metadata": {},
   "outputs": [],
   "source": [
    "out = cv.VideoWriter('conveyor_results.mp4',cv.VideoWriter_fourcc(*'h264'), 30, (shape[1], shape[0]))\n",
    " \n",
    "for i in range(len(frame_array)):\n",
    "    cv.imshow('Frame', frame_array[i])\n",
    "    if cv.waitKey(1) == ord('q'):\n",
    "        break\n",
    "    out.write(frame_array[i])\n",
    "\n",
    "out.release()\n",
    "cv.destroyAllWindows()"
   ]
  }
 ],
 "metadata": {
  "interpreter": {
   "hash": "f5ca2acd7cfffe1ba430de162f968a242c109575471a8c149f67da86ddb07b1e"
  },
  "kernelspec": {
   "display_name": "Python 3 (ipykernel)",
   "language": "python",
   "name": "python3"
  },
  "language_info": {
   "codemirror_mode": {
    "name": "ipython",
    "version": 3
   },
   "file_extension": ".py",
   "mimetype": "text/x-python",
   "name": "python",
   "nbconvert_exporter": "python",
   "pygments_lexer": "ipython3",
   "version": "3.10.4"
  }
 },
 "nbformat": 4,
 "nbformat_minor": 4
}
